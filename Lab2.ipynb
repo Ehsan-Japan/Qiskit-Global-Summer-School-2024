{
 "cells": [
  {
   "cell_type": "code",
   "execution_count": 2,
   "id": "5c27717c-1141-4b5e-8489-dc16bf7af9df",
   "metadata": {
    "tags": []
   },
   "outputs": [
    {
     "name": "stdout",
     "output_type": "stream",
     "text": [
      "Requirement already satisfied: qiskit==1.1.0 in /opt/.qbraid/environments/qbraid_000000/pyenv/lib/python3.11/site-packages (from qiskit[visualization]==1.1.0) (1.1.0)\n",
      "Requirement already satisfied: rustworkx>=0.14.0 in /opt/.qbraid/environments/qbraid_000000/pyenv/lib/python3.11/site-packages (from qiskit==1.1.0->qiskit[visualization]==1.1.0) (0.15.1)\n",
      "Requirement already satisfied: numpy<3,>=1.17 in /opt/.qbraid/environments/qbraid_000000/pyenv/lib/python3.11/site-packages (from qiskit==1.1.0->qiskit[visualization]==1.1.0) (2.0.0)\n",
      "Requirement already satisfied: scipy>=1.5 in /opt/.qbraid/environments/qbraid_000000/pyenv/lib/python3.11/site-packages (from qiskit==1.1.0->qiskit[visualization]==1.1.0) (1.14.0)\n",
      "Requirement already satisfied: sympy>=1.3 in /opt/.qbraid/environments/qbraid_000000/pyenv/lib/python3.11/site-packages (from qiskit==1.1.0->qiskit[visualization]==1.1.0) (1.13.0)\n",
      "Requirement already satisfied: dill>=0.3 in /opt/.qbraid/environments/qbraid_000000/pyenv/lib/python3.11/site-packages (from qiskit==1.1.0->qiskit[visualization]==1.1.0) (0.3.8)\n",
      "Requirement already satisfied: python-dateutil>=2.8.0 in /opt/.qbraid/environments/qbraid_000000/pyenv/lib/python3.11/site-packages (from qiskit==1.1.0->qiskit[visualization]==1.1.0) (2.9.0.post0)\n",
      "Requirement already satisfied: stevedore>=3.0.0 in /opt/.qbraid/environments/qbraid_000000/pyenv/lib/python3.11/site-packages (from qiskit==1.1.0->qiskit[visualization]==1.1.0) (5.2.0)\n",
      "Requirement already satisfied: typing-extensions in /opt/.qbraid/environments/qbraid_000000/pyenv/lib/python3.11/site-packages (from qiskit==1.1.0->qiskit[visualization]==1.1.0) (4.12.2)\n",
      "Requirement already satisfied: symengine>=0.11 in /opt/.qbraid/environments/qbraid_000000/pyenv/lib/python3.11/site-packages (from qiskit==1.1.0->qiskit[visualization]==1.1.0) (0.11.0)\n",
      "Requirement already satisfied: matplotlib>=3.3 in /opt/.qbraid/environments/qbraid_000000/pyenv/lib/python3.11/site-packages (from qiskit[visualization]==1.1.0) (3.9.1)\n",
      "Requirement already satisfied: pydot in /opt/.qbraid/environments/qbraid_000000/pyenv/lib/python3.11/site-packages (from qiskit[visualization]==1.1.0) (3.0.1)\n",
      "Requirement already satisfied: Pillow>=4.2.1 in /opt/.qbraid/environments/qbraid_000000/pyenv/lib/python3.11/site-packages (from qiskit[visualization]==1.1.0) (10.4.0)\n",
      "Requirement already satisfied: pylatexenc>=1.4 in /opt/.qbraid/environments/qbraid_000000/pyenv/lib/python3.11/site-packages (from qiskit[visualization]==1.1.0) (2.10)\n",
      "Requirement already satisfied: seaborn>=0.9.0 in /opt/.qbraid/environments/qbraid_000000/pyenv/lib/python3.11/site-packages (from qiskit[visualization]==1.1.0) (0.13.2)\n",
      "Requirement already satisfied: contourpy>=1.0.1 in /opt/.qbraid/environments/qbraid_000000/pyenv/lib/python3.11/site-packages (from matplotlib>=3.3->qiskit[visualization]==1.1.0) (1.2.1)\n",
      "Requirement already satisfied: cycler>=0.10 in /opt/.qbraid/environments/qbraid_000000/pyenv/lib/python3.11/site-packages (from matplotlib>=3.3->qiskit[visualization]==1.1.0) (0.12.1)\n",
      "Requirement already satisfied: fonttools>=4.22.0 in /opt/.qbraid/environments/qbraid_000000/pyenv/lib/python3.11/site-packages (from matplotlib>=3.3->qiskit[visualization]==1.1.0) (4.53.1)\n",
      "Requirement already satisfied: kiwisolver>=1.3.1 in /opt/.qbraid/environments/qbraid_000000/pyenv/lib/python3.11/site-packages (from matplotlib>=3.3->qiskit[visualization]==1.1.0) (1.4.5)\n",
      "Requirement already satisfied: packaging>=20.0 in /opt/.qbraid/environments/qbraid_000000/pyenv/lib/python3.11/site-packages (from matplotlib>=3.3->qiskit[visualization]==1.1.0) (24.1)\n",
      "Requirement already satisfied: pyparsing>=2.3.1 in /opt/.qbraid/environments/qbraid_000000/pyenv/lib/python3.11/site-packages (from matplotlib>=3.3->qiskit[visualization]==1.1.0) (3.1.2)\n",
      "Requirement already satisfied: six>=1.5 in /opt/.qbraid/environments/qbraid_000000/pyenv/lib/python3.11/site-packages (from python-dateutil>=2.8.0->qiskit==1.1.0->qiskit[visualization]==1.1.0) (1.16.0)\n",
      "Requirement already satisfied: pandas>=1.2 in /opt/.qbraid/environments/qbraid_000000/pyenv/lib/python3.11/site-packages (from seaborn>=0.9.0->qiskit[visualization]==1.1.0) (2.2.2)\n",
      "Requirement already satisfied: pbr!=2.1.0,>=2.0.0 in /opt/.qbraid/environments/qbraid_000000/pyenv/lib/python3.11/site-packages (from stevedore>=3.0.0->qiskit==1.1.0->qiskit[visualization]==1.1.0) (6.0.0)\n",
      "Requirement already satisfied: mpmath<1.4,>=1.1.0 in /opt/.qbraid/environments/qbraid_000000/pyenv/lib/python3.11/site-packages (from sympy>=1.3->qiskit==1.1.0->qiskit[visualization]==1.1.0) (1.3.0)\n",
      "Requirement already satisfied: pytz>=2020.1 in /opt/.qbraid/environments/qbraid_000000/pyenv/lib/python3.11/site-packages (from pandas>=1.2->seaborn>=0.9.0->qiskit[visualization]==1.1.0) (2024.1)\n",
      "Requirement already satisfied: tzdata>=2022.7 in /opt/.qbraid/environments/qbraid_000000/pyenv/lib/python3.11/site-packages (from pandas>=1.2->seaborn>=0.9.0->qiskit[visualization]==1.1.0) (2024.1)\n",
      "Note: you may need to restart the kernel to use updated packages.\n",
      "Requirement already satisfied: qiskit_aer in /opt/.qbraid/environments/qbraid_000000/pyenv/lib/python3.11/site-packages (0.14.2)\n",
      "Requirement already satisfied: qiskit>=0.45.2 in /opt/.qbraid/environments/qbraid_000000/pyenv/lib/python3.11/site-packages (from qiskit_aer) (1.1.0)\n",
      "Requirement already satisfied: numpy>=1.16.3 in /opt/.qbraid/environments/qbraid_000000/pyenv/lib/python3.11/site-packages (from qiskit_aer) (2.0.0)\n",
      "Requirement already satisfied: scipy>=1.0 in /opt/.qbraid/environments/qbraid_000000/pyenv/lib/python3.11/site-packages (from qiskit_aer) (1.14.0)\n",
      "Requirement already satisfied: psutil>=5 in /opt/.qbraid/environments/qbraid_000000/pyenv/lib/python3.11/site-packages (from qiskit_aer) (6.0.0)\n",
      "Requirement already satisfied: rustworkx>=0.14.0 in /opt/.qbraid/environments/qbraid_000000/pyenv/lib/python3.11/site-packages (from qiskit>=0.45.2->qiskit_aer) (0.15.1)\n",
      "Requirement already satisfied: sympy>=1.3 in /opt/.qbraid/environments/qbraid_000000/pyenv/lib/python3.11/site-packages (from qiskit>=0.45.2->qiskit_aer) (1.13.0)\n",
      "Requirement already satisfied: dill>=0.3 in /opt/.qbraid/environments/qbraid_000000/pyenv/lib/python3.11/site-packages (from qiskit>=0.45.2->qiskit_aer) (0.3.8)\n",
      "Requirement already satisfied: python-dateutil>=2.8.0 in /opt/.qbraid/environments/qbraid_000000/pyenv/lib/python3.11/site-packages (from qiskit>=0.45.2->qiskit_aer) (2.9.0.post0)\n",
      "Requirement already satisfied: stevedore>=3.0.0 in /opt/.qbraid/environments/qbraid_000000/pyenv/lib/python3.11/site-packages (from qiskit>=0.45.2->qiskit_aer) (5.2.0)\n",
      "Requirement already satisfied: typing-extensions in /opt/.qbraid/environments/qbraid_000000/pyenv/lib/python3.11/site-packages (from qiskit>=0.45.2->qiskit_aer) (4.12.2)\n",
      "Requirement already satisfied: symengine>=0.11 in /opt/.qbraid/environments/qbraid_000000/pyenv/lib/python3.11/site-packages (from qiskit>=0.45.2->qiskit_aer) (0.11.0)\n",
      "Requirement already satisfied: six>=1.5 in /opt/.qbraid/environments/qbraid_000000/pyenv/lib/python3.11/site-packages (from python-dateutil>=2.8.0->qiskit>=0.45.2->qiskit_aer) (1.16.0)\n",
      "Requirement already satisfied: pbr!=2.1.0,>=2.0.0 in /opt/.qbraid/environments/qbraid_000000/pyenv/lib/python3.11/site-packages (from stevedore>=3.0.0->qiskit>=0.45.2->qiskit_aer) (6.0.0)\n",
      "Requirement already satisfied: mpmath<1.4,>=1.1.0 in /opt/.qbraid/environments/qbraid_000000/pyenv/lib/python3.11/site-packages (from sympy>=1.3->qiskit>=0.45.2->qiskit_aer) (1.3.0)\n",
      "Note: you may need to restart the kernel to use updated packages.\n",
      "Requirement already satisfied: qiskit_ibm_runtime in /opt/.qbraid/environments/qbraid_000000/pyenv/lib/python3.11/site-packages (0.25.0)\n",
      "Requirement already satisfied: requests>=2.19 in /opt/.qbraid/environments/qbraid_000000/pyenv/lib/python3.11/site-packages (from qiskit_ibm_runtime) (2.32.3)\n",
      "Requirement already satisfied: requests-ntlm>=1.1.0 in /opt/.qbraid/environments/qbraid_000000/pyenv/lib/python3.11/site-packages (from qiskit_ibm_runtime) (1.3.0)\n",
      "Requirement already satisfied: numpy>=1.13 in /opt/.qbraid/environments/qbraid_000000/pyenv/lib/python3.11/site-packages (from qiskit_ibm_runtime) (2.0.0)\n",
      "Requirement already satisfied: urllib3>=1.21.1 in /opt/.qbraid/environments/qbraid_000000/pyenv/lib/python3.11/site-packages (from qiskit_ibm_runtime) (2.2.2)\n",
      "Requirement already satisfied: python-dateutil>=2.8.0 in /opt/.qbraid/environments/qbraid_000000/pyenv/lib/python3.11/site-packages (from qiskit_ibm_runtime) (2.9.0.post0)\n",
      "Requirement already satisfied: websocket-client>=1.5.1 in /opt/.qbraid/environments/qbraid_000000/pyenv/lib/python3.11/site-packages (from qiskit_ibm_runtime) (1.8.0)\n",
      "Requirement already satisfied: ibm-platform-services>=0.22.6 in /opt/.qbraid/environments/qbraid_000000/pyenv/lib/python3.11/site-packages (from qiskit_ibm_runtime) (0.55.1)\n",
      "Requirement already satisfied: pydantic>=2.5.0 in /opt/.qbraid/environments/qbraid_000000/pyenv/lib/python3.11/site-packages (from qiskit_ibm_runtime) (2.8.2)\n",
      "Requirement already satisfied: qiskit>=1.1.0 in /opt/.qbraid/environments/qbraid_000000/pyenv/lib/python3.11/site-packages (from qiskit_ibm_runtime) (1.1.0)\n",
      "Requirement already satisfied: ibm-cloud-sdk-core<4.0.0,>=3.20.3 in /opt/.qbraid/environments/qbraid_000000/pyenv/lib/python3.11/site-packages (from ibm-platform-services>=0.22.6->qiskit_ibm_runtime) (3.20.3)\n",
      "Requirement already satisfied: annotated-types>=0.4.0 in /opt/.qbraid/environments/qbraid_000000/pyenv/lib/python3.11/site-packages (from pydantic>=2.5.0->qiskit_ibm_runtime) (0.7.0)\n",
      "Requirement already satisfied: pydantic-core==2.20.1 in /opt/.qbraid/environments/qbraid_000000/pyenv/lib/python3.11/site-packages (from pydantic>=2.5.0->qiskit_ibm_runtime) (2.20.1)\n",
      "Requirement already satisfied: typing-extensions>=4.6.1 in /opt/.qbraid/environments/qbraid_000000/pyenv/lib/python3.11/site-packages (from pydantic>=2.5.0->qiskit_ibm_runtime) (4.12.2)\n",
      "Requirement already satisfied: six>=1.5 in /opt/.qbraid/environments/qbraid_000000/pyenv/lib/python3.11/site-packages (from python-dateutil>=2.8.0->qiskit_ibm_runtime) (1.16.0)\n",
      "Requirement already satisfied: rustworkx>=0.14.0 in /opt/.qbraid/environments/qbraid_000000/pyenv/lib/python3.11/site-packages (from qiskit>=1.1.0->qiskit_ibm_runtime) (0.15.1)\n",
      "Requirement already satisfied: scipy>=1.5 in /opt/.qbraid/environments/qbraid_000000/pyenv/lib/python3.11/site-packages (from qiskit>=1.1.0->qiskit_ibm_runtime) (1.14.0)\n",
      "Requirement already satisfied: sympy>=1.3 in /opt/.qbraid/environments/qbraid_000000/pyenv/lib/python3.11/site-packages (from qiskit>=1.1.0->qiskit_ibm_runtime) (1.13.0)\n",
      "Requirement already satisfied: dill>=0.3 in /opt/.qbraid/environments/qbraid_000000/pyenv/lib/python3.11/site-packages (from qiskit>=1.1.0->qiskit_ibm_runtime) (0.3.8)\n",
      "Requirement already satisfied: stevedore>=3.0.0 in /opt/.qbraid/environments/qbraid_000000/pyenv/lib/python3.11/site-packages (from qiskit>=1.1.0->qiskit_ibm_runtime) (5.2.0)\n",
      "Requirement already satisfied: symengine>=0.11 in /opt/.qbraid/environments/qbraid_000000/pyenv/lib/python3.11/site-packages (from qiskit>=1.1.0->qiskit_ibm_runtime) (0.11.0)\n",
      "Requirement already satisfied: charset-normalizer<4,>=2 in /opt/.qbraid/environments/qbraid_000000/pyenv/lib/python3.11/site-packages (from requests>=2.19->qiskit_ibm_runtime) (3.3.2)\n",
      "Requirement already satisfied: idna<4,>=2.5 in /opt/.qbraid/environments/qbraid_000000/pyenv/lib/python3.11/site-packages (from requests>=2.19->qiskit_ibm_runtime) (3.7)\n",
      "Requirement already satisfied: certifi>=2017.4.17 in /opt/.qbraid/environments/qbraid_000000/pyenv/lib/python3.11/site-packages (from requests>=2.19->qiskit_ibm_runtime) (2024.7.4)\n",
      "Requirement already satisfied: cryptography>=1.3 in /opt/.qbraid/environments/qbraid_000000/pyenv/lib/python3.11/site-packages (from requests-ntlm>=1.1.0->qiskit_ibm_runtime) (42.0.8)\n",
      "Requirement already satisfied: pyspnego>=0.4.0 in /opt/.qbraid/environments/qbraid_000000/pyenv/lib/python3.11/site-packages (from requests-ntlm>=1.1.0->qiskit_ibm_runtime) (0.11.0)\n",
      "Requirement already satisfied: cffi>=1.12 in /opt/.qbraid/environments/qbraid_000000/pyenv/lib/python3.11/site-packages (from cryptography>=1.3->requests-ntlm>=1.1.0->qiskit_ibm_runtime) (1.16.0)\n",
      "Requirement already satisfied: PyJWT<3.0.0,>=2.8.0 in /opt/.qbraid/environments/qbraid_000000/pyenv/lib/python3.11/site-packages (from ibm-cloud-sdk-core<4.0.0,>=3.20.3->ibm-platform-services>=0.22.6->qiskit_ibm_runtime) (2.8.0)\n",
      "Requirement already satisfied: pbr!=2.1.0,>=2.0.0 in /opt/.qbraid/environments/qbraid_000000/pyenv/lib/python3.11/site-packages (from stevedore>=3.0.0->qiskit>=1.1.0->qiskit_ibm_runtime) (6.0.0)\n",
      "Requirement already satisfied: mpmath<1.4,>=1.1.0 in /opt/.qbraid/environments/qbraid_000000/pyenv/lib/python3.11/site-packages (from sympy>=1.3->qiskit>=1.1.0->qiskit_ibm_runtime) (1.3.0)\n",
      "Requirement already satisfied: pycparser in /opt/.qbraid/environments/qbraid_000000/pyenv/lib/python3.11/site-packages (from cffi>=1.12->cryptography>=1.3->requests-ntlm>=1.1.0->qiskit_ibm_runtime) (2.22)\n",
      "Note: you may need to restart the kernel to use updated packages.\n",
      "Requirement already satisfied: matplotlib in /opt/.qbraid/environments/qbraid_000000/pyenv/lib/python3.11/site-packages (3.9.1)\n",
      "Requirement already satisfied: contourpy>=1.0.1 in /opt/.qbraid/environments/qbraid_000000/pyenv/lib/python3.11/site-packages (from matplotlib) (1.2.1)\n",
      "Requirement already satisfied: cycler>=0.10 in /opt/.qbraid/environments/qbraid_000000/pyenv/lib/python3.11/site-packages (from matplotlib) (0.12.1)\n",
      "Requirement already satisfied: fonttools>=4.22.0 in /opt/.qbraid/environments/qbraid_000000/pyenv/lib/python3.11/site-packages (from matplotlib) (4.53.1)\n",
      "Requirement already satisfied: kiwisolver>=1.3.1 in /opt/.qbraid/environments/qbraid_000000/pyenv/lib/python3.11/site-packages (from matplotlib) (1.4.5)\n",
      "Requirement already satisfied: numpy>=1.23 in /opt/.qbraid/environments/qbraid_000000/pyenv/lib/python3.11/site-packages (from matplotlib) (2.0.0)\n",
      "Requirement already satisfied: packaging>=20.0 in /opt/.qbraid/environments/qbraid_000000/pyenv/lib/python3.11/site-packages (from matplotlib) (24.1)\n",
      "Requirement already satisfied: pillow>=8 in /opt/.qbraid/environments/qbraid_000000/pyenv/lib/python3.11/site-packages (from matplotlib) (10.4.0)\n",
      "Requirement already satisfied: pyparsing>=2.3.1 in /opt/.qbraid/environments/qbraid_000000/pyenv/lib/python3.11/site-packages (from matplotlib) (3.1.2)\n",
      "Requirement already satisfied: python-dateutil>=2.7 in /opt/.qbraid/environments/qbraid_000000/pyenv/lib/python3.11/site-packages (from matplotlib) (2.9.0.post0)\n",
      "Requirement already satisfied: six>=1.5 in /opt/.qbraid/environments/qbraid_000000/pyenv/lib/python3.11/site-packages (from python-dateutil>=2.7->matplotlib) (1.16.0)\n",
      "Note: you may need to restart the kernel to use updated packages.\n",
      "Requirement already satisfied: pylatexenc in /opt/.qbraid/environments/qbraid_000000/pyenv/lib/python3.11/site-packages (2.10)\n",
      "Note: you may need to restart the kernel to use updated packages.\n",
      "Requirement already satisfied: prototype-zne in /opt/.qbraid/environments/qbraid_000000/pyenv/lib/python3.11/site-packages (1.3.1)\n",
      "Requirement already satisfied: qiskit>=0.45.1 in /opt/.qbraid/environments/qbraid_000000/pyenv/lib/python3.11/site-packages (from prototype-zne) (1.1.0)\n",
      "Requirement already satisfied: rustworkx>=0.14.0 in /opt/.qbraid/environments/qbraid_000000/pyenv/lib/python3.11/site-packages (from qiskit>=0.45.1->prototype-zne) (0.15.1)\n",
      "Requirement already satisfied: numpy<3,>=1.17 in /opt/.qbraid/environments/qbraid_000000/pyenv/lib/python3.11/site-packages (from qiskit>=0.45.1->prototype-zne) (2.0.0)\n",
      "Requirement already satisfied: scipy>=1.5 in /opt/.qbraid/environments/qbraid_000000/pyenv/lib/python3.11/site-packages (from qiskit>=0.45.1->prototype-zne) (1.14.0)\n",
      "Requirement already satisfied: sympy>=1.3 in /opt/.qbraid/environments/qbraid_000000/pyenv/lib/python3.11/site-packages (from qiskit>=0.45.1->prototype-zne) (1.13.0)\n",
      "Requirement already satisfied: dill>=0.3 in /opt/.qbraid/environments/qbraid_000000/pyenv/lib/python3.11/site-packages (from qiskit>=0.45.1->prototype-zne) (0.3.8)\n",
      "Requirement already satisfied: python-dateutil>=2.8.0 in /opt/.qbraid/environments/qbraid_000000/pyenv/lib/python3.11/site-packages (from qiskit>=0.45.1->prototype-zne) (2.9.0.post0)\n",
      "Requirement already satisfied: stevedore>=3.0.0 in /opt/.qbraid/environments/qbraid_000000/pyenv/lib/python3.11/site-packages (from qiskit>=0.45.1->prototype-zne) (5.2.0)\n",
      "Requirement already satisfied: typing-extensions in /opt/.qbraid/environments/qbraid_000000/pyenv/lib/python3.11/site-packages (from qiskit>=0.45.1->prototype-zne) (4.12.2)\n",
      "Requirement already satisfied: symengine>=0.11 in /opt/.qbraid/environments/qbraid_000000/pyenv/lib/python3.11/site-packages (from qiskit>=0.45.1->prototype-zne) (0.11.0)\n",
      "Requirement already satisfied: six>=1.5 in /opt/.qbraid/environments/qbraid_000000/pyenv/lib/python3.11/site-packages (from python-dateutil>=2.8.0->qiskit>=0.45.1->prototype-zne) (1.16.0)\n",
      "Requirement already satisfied: pbr!=2.1.0,>=2.0.0 in /opt/.qbraid/environments/qbraid_000000/pyenv/lib/python3.11/site-packages (from stevedore>=3.0.0->qiskit>=0.45.1->prototype-zne) (6.0.0)\n",
      "Requirement already satisfied: mpmath<1.4,>=1.1.0 in /opt/.qbraid/environments/qbraid_000000/pyenv/lib/python3.11/site-packages (from sympy>=1.3->qiskit>=0.45.1->prototype-zne) (1.3.0)\n",
      "Note: you may need to restart the kernel to use updated packages.\n"
     ]
    }
   ],
   "source": [
    "%pip install qiskit[visualization]==1.1.0\n",
    "# Use the following if you are on MacOS/zsh\n",
    "#!pip install 'qiskit[visualization]'==1.1.0\n",
    "%pip install qiskit_aer\n",
    "%pip install qiskit_ibm_runtime\n",
    "%pip install matplotlib\n",
    "%pip install pylatexenc\n",
    "%pip install prototype-zne"
   ]
  },
  {
   "cell_type": "code",
   "execution_count": 3,
   "id": "30e21194-9567-4b4c-95ff-4c10e919c167",
   "metadata": {
    "tags": []
   },
   "outputs": [
    {
     "name": "stdout",
     "output_type": "stream",
     "text": [
      "Requirement already satisfied: qiskit-transpiler-service in /opt/.qbraid/environments/qbraid_000000/pyenv/lib/python3.11/site-packages (0.4.3)\n",
      "Requirement already satisfied: qiskit~=1.0 in /opt/.qbraid/environments/qbraid_000000/pyenv/lib/python3.11/site-packages (from qiskit-transpiler-service) (1.1.0)\n",
      "Requirement already satisfied: backoff~=2.0 in /opt/.qbraid/environments/qbraid_000000/pyenv/lib/python3.11/site-packages (from qiskit-transpiler-service) (2.2.1)\n",
      "Requirement already satisfied: qiskit-qasm3-import~=0.4 in /opt/.qbraid/environments/qbraid_000000/pyenv/lib/python3.11/site-packages (from qiskit-transpiler-service) (0.5.0)\n",
      "Requirement already satisfied: requests~=2.0 in /opt/.qbraid/environments/qbraid_000000/pyenv/lib/python3.11/site-packages (from qiskit-transpiler-service) (2.32.3)\n",
      "Requirement already satisfied: rustworkx>=0.14.0 in /opt/.qbraid/environments/qbraid_000000/pyenv/lib/python3.11/site-packages (from qiskit~=1.0->qiskit-transpiler-service) (0.15.1)\n",
      "Requirement already satisfied: numpy<3,>=1.17 in /opt/.qbraid/environments/qbraid_000000/pyenv/lib/python3.11/site-packages (from qiskit~=1.0->qiskit-transpiler-service) (2.0.0)\n",
      "Requirement already satisfied: scipy>=1.5 in /opt/.qbraid/environments/qbraid_000000/pyenv/lib/python3.11/site-packages (from qiskit~=1.0->qiskit-transpiler-service) (1.14.0)\n",
      "Requirement already satisfied: sympy>=1.3 in /opt/.qbraid/environments/qbraid_000000/pyenv/lib/python3.11/site-packages (from qiskit~=1.0->qiskit-transpiler-service) (1.13.0)\n",
      "Requirement already satisfied: dill>=0.3 in /opt/.qbraid/environments/qbraid_000000/pyenv/lib/python3.11/site-packages (from qiskit~=1.0->qiskit-transpiler-service) (0.3.8)\n",
      "Requirement already satisfied: python-dateutil>=2.8.0 in /opt/.qbraid/environments/qbraid_000000/pyenv/lib/python3.11/site-packages (from qiskit~=1.0->qiskit-transpiler-service) (2.9.0.post0)\n",
      "Requirement already satisfied: stevedore>=3.0.0 in /opt/.qbraid/environments/qbraid_000000/pyenv/lib/python3.11/site-packages (from qiskit~=1.0->qiskit-transpiler-service) (5.2.0)\n",
      "Requirement already satisfied: typing-extensions in /opt/.qbraid/environments/qbraid_000000/pyenv/lib/python3.11/site-packages (from qiskit~=1.0->qiskit-transpiler-service) (4.12.2)\n",
      "Requirement already satisfied: symengine>=0.11 in /opt/.qbraid/environments/qbraid_000000/pyenv/lib/python3.11/site-packages (from qiskit~=1.0->qiskit-transpiler-service) (0.11.0)\n",
      "Requirement already satisfied: openqasm3<0.6,>=0.4 in /opt/.qbraid/environments/qbraid_000000/pyenv/lib/python3.11/site-packages (from openqasm3[parser]<0.6,>=0.4->qiskit-qasm3-import~=0.4->qiskit-transpiler-service) (0.5.0)\n",
      "Requirement already satisfied: charset-normalizer<4,>=2 in /opt/.qbraid/environments/qbraid_000000/pyenv/lib/python3.11/site-packages (from requests~=2.0->qiskit-transpiler-service) (3.3.2)\n",
      "Requirement already satisfied: idna<4,>=2.5 in /opt/.qbraid/environments/qbraid_000000/pyenv/lib/python3.11/site-packages (from requests~=2.0->qiskit-transpiler-service) (3.7)\n",
      "Requirement already satisfied: urllib3<3,>=1.21.1 in /opt/.qbraid/environments/qbraid_000000/pyenv/lib/python3.11/site-packages (from requests~=2.0->qiskit-transpiler-service) (2.2.2)\n",
      "Requirement already satisfied: certifi>=2017.4.17 in /opt/.qbraid/environments/qbraid_000000/pyenv/lib/python3.11/site-packages (from requests~=2.0->qiskit-transpiler-service) (2024.7.4)\n",
      "Requirement already satisfied: antlr4-python3-runtime<4.14,>=4.7 in /opt/.qbraid/environments/qbraid_000000/pyenv/lib/python3.11/site-packages (from openqasm3[parser]<0.6,>=0.4->qiskit-qasm3-import~=0.4->qiskit-transpiler-service) (4.13.1)\n",
      "Requirement already satisfied: six>=1.5 in /opt/.qbraid/environments/qbraid_000000/pyenv/lib/python3.11/site-packages (from python-dateutil>=2.8.0->qiskit~=1.0->qiskit-transpiler-service) (1.16.0)\n",
      "Requirement already satisfied: pbr!=2.1.0,>=2.0.0 in /opt/.qbraid/environments/qbraid_000000/pyenv/lib/python3.11/site-packages (from stevedore>=3.0.0->qiskit~=1.0->qiskit-transpiler-service) (6.0.0)\n",
      "Requirement already satisfied: mpmath<1.4,>=1.1.0 in /opt/.qbraid/environments/qbraid_000000/pyenv/lib/python3.11/site-packages (from sympy>=1.3->qiskit~=1.0->qiskit-transpiler-service) (1.3.0)\n",
      "Note: you may need to restart the kernel to use updated packages.\n"
     ]
    }
   ],
   "source": [
    "%pip install qiskit-transpiler-service"
   ]
  },
  {
   "cell_type": "code",
   "execution_count": 1,
   "id": "9988beb7-353e-4bed-8da8-38fc3d8ec212",
   "metadata": {
    "tags": []
   },
   "outputs": [
    {
     "name": "stdout",
     "output_type": "stream",
     "text": [
      "env: QXToken=your token\n"
     ]
    }
   ],
   "source": [
    "%set_env QXToken=your token"
   ]
  },
  {
   "cell_type": "code",
   "execution_count": 5,
   "id": "c00cd681-38cc-4331-9e0c-420338745312",
   "metadata": {
    "tags": []
   },
   "outputs": [
    {
     "name": "stdout",
     "output_type": "stream",
     "text": [
      "Collecting git+https://github.com/qiskit-community/Quantum-Challenge-Grader.git\n",
      "  Cloning https://github.com/qiskit-community/Quantum-Challenge-Grader.git to /tmp/pip-req-build-i1yogb1t\n",
      "  Running command git clone --filter=blob:none --quiet https://github.com/qiskit-community/Quantum-Challenge-Grader.git /tmp/pip-req-build-i1yogb1t\n",
      "  Resolved https://github.com/qiskit-community/Quantum-Challenge-Grader.git to commit bcaff898473fd54f3e2668f162817947787f7268\n",
      "  Preparing metadata (setup.py) ... \u001b[?25ldone\n",
      "\u001b[?25hRequirement already satisfied: typeguard in /opt/.qbraid/environments/qbraid_000000/pyenv/lib/python3.11/site-packages (from qc-grader==0.19.7) (4.3.0)\n",
      "Requirement already satisfied: jsonpickle==3.0.3 in /opt/.qbraid/environments/qbraid_000000/pyenv/lib/python3.11/site-packages (from qc-grader==0.19.7) (3.0.3)\n",
      "Requirement already satisfied: ipycytoscape in /opt/.qbraid/environments/qbraid_000000/pyenv/lib/python3.11/site-packages (from qc-grader==0.19.7) (1.3.3)\n",
      "Requirement already satisfied: plotly in /opt/.qbraid/environments/qbraid_000000/pyenv/lib/python3.11/site-packages (from qc-grader==0.19.7) (5.22.0)\n",
      "Requirement already satisfied: networkx==3.2.1 in /opt/.qbraid/environments/qbraid_000000/pyenv/lib/python3.11/site-packages (from qc-grader==0.19.7) (3.2.1)\n",
      "Requirement already satisfied: graphviz in /opt/.qbraid/environments/qbraid_000000/pyenv/lib/python3.11/site-packages (from qc-grader==0.19.7) (0.20.3)\n",
      "Requirement already satisfied: ipywidgets>=7.6.0 in /opt/.qbraid/environments/qbraid_000000/pyenv/lib/python3.11/site-packages (from ipycytoscape->qc-grader==0.19.7) (8.1.3)\n",
      "Requirement already satisfied: spectate>=1.0.0 in /opt/.qbraid/environments/qbraid_000000/pyenv/lib/python3.11/site-packages (from ipycytoscape->qc-grader==0.19.7) (1.0.1)\n",
      "Requirement already satisfied: tenacity>=6.2.0 in /opt/.qbraid/environments/qbraid_000000/pyenv/lib/python3.11/site-packages (from plotly->qc-grader==0.19.7) (8.5.0)\n",
      "Requirement already satisfied: packaging in /opt/.qbraid/environments/qbraid_000000/pyenv/lib/python3.11/site-packages (from plotly->qc-grader==0.19.7) (24.1)\n",
      "Requirement already satisfied: typing-extensions>=4.10.0 in /opt/.qbraid/environments/qbraid_000000/pyenv/lib/python3.11/site-packages (from typeguard->qc-grader==0.19.7) (4.12.2)\n",
      "Requirement already satisfied: comm>=0.1.3 in /opt/.qbraid/environments/qbraid_000000/pyenv/lib/python3.11/site-packages (from ipywidgets>=7.6.0->ipycytoscape->qc-grader==0.19.7) (0.2.2)\n",
      "Requirement already satisfied: ipython>=6.1.0 in /opt/.qbraid/environments/qbraid_000000/pyenv/lib/python3.11/site-packages (from ipywidgets>=7.6.0->ipycytoscape->qc-grader==0.19.7) (8.26.0)\n",
      "Requirement already satisfied: traitlets>=4.3.1 in /opt/.qbraid/environments/qbraid_000000/pyenv/lib/python3.11/site-packages (from ipywidgets>=7.6.0->ipycytoscape->qc-grader==0.19.7) (5.14.3)\n",
      "Requirement already satisfied: widgetsnbextension~=4.0.11 in /opt/.qbraid/environments/qbraid_000000/pyenv/lib/python3.11/site-packages (from ipywidgets>=7.6.0->ipycytoscape->qc-grader==0.19.7) (4.0.11)\n",
      "Requirement already satisfied: jupyterlab-widgets~=3.0.11 in /opt/.qbraid/environments/qbraid_000000/pyenv/lib/python3.11/site-packages (from ipywidgets>=7.6.0->ipycytoscape->qc-grader==0.19.7) (3.0.11)\n",
      "Requirement already satisfied: decorator in /opt/.qbraid/environments/qbraid_000000/pyenv/lib/python3.11/site-packages (from ipython>=6.1.0->ipywidgets>=7.6.0->ipycytoscape->qc-grader==0.19.7) (5.1.1)\n",
      "Requirement already satisfied: jedi>=0.16 in /opt/.qbraid/environments/qbraid_000000/pyenv/lib/python3.11/site-packages (from ipython>=6.1.0->ipywidgets>=7.6.0->ipycytoscape->qc-grader==0.19.7) (0.19.1)\n",
      "Requirement already satisfied: matplotlib-inline in /opt/.qbraid/environments/qbraid_000000/pyenv/lib/python3.11/site-packages (from ipython>=6.1.0->ipywidgets>=7.6.0->ipycytoscape->qc-grader==0.19.7) (0.1.7)\n",
      "Requirement already satisfied: prompt-toolkit<3.1.0,>=3.0.41 in /opt/.qbraid/environments/qbraid_000000/pyenv/lib/python3.11/site-packages (from ipython>=6.1.0->ipywidgets>=7.6.0->ipycytoscape->qc-grader==0.19.7) (3.0.47)\n",
      "Requirement already satisfied: pygments>=2.4.0 in /opt/.qbraid/environments/qbraid_000000/pyenv/lib/python3.11/site-packages (from ipython>=6.1.0->ipywidgets>=7.6.0->ipycytoscape->qc-grader==0.19.7) (2.18.0)\n",
      "Requirement already satisfied: stack-data in /opt/.qbraid/environments/qbraid_000000/pyenv/lib/python3.11/site-packages (from ipython>=6.1.0->ipywidgets>=7.6.0->ipycytoscape->qc-grader==0.19.7) (0.6.3)\n",
      "Requirement already satisfied: pexpect>4.3 in /opt/.qbraid/environments/qbraid_000000/pyenv/lib/python3.11/site-packages (from ipython>=6.1.0->ipywidgets>=7.6.0->ipycytoscape->qc-grader==0.19.7) (4.9.0)\n",
      "Requirement already satisfied: parso<0.9.0,>=0.8.3 in /opt/.qbraid/environments/qbraid_000000/pyenv/lib/python3.11/site-packages (from jedi>=0.16->ipython>=6.1.0->ipywidgets>=7.6.0->ipycytoscape->qc-grader==0.19.7) (0.8.4)\n",
      "Requirement already satisfied: ptyprocess>=0.5 in /opt/.qbraid/environments/qbraid_000000/pyenv/lib/python3.11/site-packages (from pexpect>4.3->ipython>=6.1.0->ipywidgets>=7.6.0->ipycytoscape->qc-grader==0.19.7) (0.7.0)\n",
      "Requirement already satisfied: wcwidth in /opt/.qbraid/environments/qbraid_000000/pyenv/lib/python3.11/site-packages (from prompt-toolkit<3.1.0,>=3.0.41->ipython>=6.1.0->ipywidgets>=7.6.0->ipycytoscape->qc-grader==0.19.7) (0.2.13)\n",
      "Requirement already satisfied: executing>=1.2.0 in /opt/.qbraid/environments/qbraid_000000/pyenv/lib/python3.11/site-packages (from stack-data->ipython>=6.1.0->ipywidgets>=7.6.0->ipycytoscape->qc-grader==0.19.7) (2.0.1)\n",
      "Requirement already satisfied: asttokens>=2.1.0 in /opt/.qbraid/environments/qbraid_000000/pyenv/lib/python3.11/site-packages (from stack-data->ipython>=6.1.0->ipywidgets>=7.6.0->ipycytoscape->qc-grader==0.19.7) (2.4.1)\n",
      "Requirement already satisfied: pure-eval in /opt/.qbraid/environments/qbraid_000000/pyenv/lib/python3.11/site-packages (from stack-data->ipython>=6.1.0->ipywidgets>=7.6.0->ipycytoscape->qc-grader==0.19.7) (0.2.2)\n",
      "Requirement already satisfied: six>=1.12.0 in /opt/.qbraid/environments/qbraid_000000/pyenv/lib/python3.11/site-packages (from asttokens>=2.1.0->stack-data->ipython>=6.1.0->ipywidgets>=7.6.0->ipycytoscape->qc-grader==0.19.7) (1.16.0)\n",
      "Note: you may need to restart the kernel to use updated packages.\n"
     ]
    }
   ],
   "source": [
    "%pip install git+https://github.com/qiskit-community/Quantum-Challenge-Grader.git"
   ]
  },
  {
   "cell_type": "code",
   "execution_count": 6,
   "id": "e6a6d080-86f1-4133-bae0-3d5048a7fdd3",
   "metadata": {
    "tags": []
   },
   "outputs": [],
   "source": [
    "from qc_grader.challenges.qgss_2024 import *\n",
    "# import of required libraries and modules\n",
    "from qc_grader.challenges.qgss_2024 import *\n",
    "\n",
    "from math import pi\n",
    "from qiskit.circuit.library import QFT\n",
    "from qiskit.providers.fake_provider import GenericBackendV2, generic_backend_v2\n",
    "generic_backend_v2._NOISE_DEFAULTS[\"cx\"] = (5.99988e-06, 6.99988e-06, 1e-5, 5e-3)\n",
    "\n",
    "from qiskit import transpile, QuantumCircuit\n",
    "from qiskit.circuit import Gate\n",
    "from qiskit.converters import circuit_to_dag\n",
    "from qiskit.transpiler import CouplingMap, StagedPassManager, PassManager, AnalysisPass, TransformationPass\n",
    "from qiskit.transpiler.preset_passmanagers import generate_preset_pass_manager\n",
    "from qiskit.transpiler.preset_passmanagers.common import generate_unroll_3q, generate_embed_passmanager\n",
    "from qiskit.quantum_info import hellinger_fidelity\n",
    "from qiskit.providers.basic_provider import BasicSimulator\n",
    "from qiskit.dagcircuit import DAGCircuit\n",
    "from qiskit_ibm_runtime.fake_provider import FakeTorino\n",
    "\n",
    "# Transpiler Passes\n",
    "## Layout passes\n",
    "from qiskit.transpiler.passes.layout.csp_layout import CSPLayout\n",
    "from qiskit.transpiler.passes.layout.dense_layout import DenseLayout\n",
    "from qiskit.transpiler.passes.layout.sabre_layout import SabreLayout\n",
    "from qiskit.transpiler.passes.layout.vf2_layout import VF2Layout\n",
    "from qiskit.transpiler.passes.layout.trivial_layout import TrivialLayout\n",
    "\n",
    "## Routing passes\n",
    "from qiskit.transpiler.passes.routing.basic_swap import BasicSwap\n",
    "from qiskit.transpiler.passes.routing.lookahead_swap import LookaheadSwap\n",
    "from qiskit.transpiler.passes.routing.sabre_swap import SabreSwap\n",
    "from qiskit.transpiler.passes.routing.stochastic_swap import StochasticSwap\n",
    "from qiskit.transpiler.passes.routing.star_prerouting import StarPreRouting\n",
    "\n",
    "## Synthesis passes (passes for the translation stage)\n",
    "from qiskit.circuit import SessionEquivalenceLibrary\n",
    "from qiskit.circuit.equivalence_library import SessionEquivalenceLibrary\n",
    "from qiskit.transpiler.passes.basis.basis_translator import BasisTranslator\n",
    "from qiskit.transpiler.passes.synthesis.high_level_synthesis import HighLevelSynthesis\n",
    "### The next pass could also be considered an optimization pass.\n",
    "from qiskit.transpiler.passes.synthesis.unitary_synthesis import UnitarySynthesis\n",
    "\n",
    "## Optimization passes\n",
    "from qiskit.transpiler.passes.optimization.collect_1q_runs import Collect1qRuns\n",
    "from qiskit.transpiler.passes.optimization.collect_2q_blocks import Collect2qBlocks\n",
    "from qiskit.transpiler.passes.optimization.consolidate_blocks import ConsolidateBlocks\n",
    "from qiskit.transpiler.passes.optimization.commutative_cancellation import CommutativeCancellation"
   ]
  },
  {
   "cell_type": "code",
   "execution_count": 7,
   "id": "cac24a99-a4fe-463e-943e-81065723e4b7",
   "metadata": {
    "tags": []
   },
   "outputs": [
    {
     "name": "stdout",
     "output_type": "stream",
     "text": [
      "env: QXToken=e627890717d6ea36b41a2db36da0339759001bb21cad25398a8d2c35d61819e7d757af4a46f8500d823f885175b6399377731af3960cab3d76bddccf752232b2\n"
     ]
    }
   ],
   "source": [
    "%set_env QXToken=e627890717d6ea36b41a2db36da0339759001bb21cad25398a8d2c35d61819e7d757af4a46f8500d823f885175b6399377731af3960cab3d76bddccf752232b2"
   ]
  },
  {
   "cell_type": "code",
   "execution_count": 8,
   "id": "a5574f8a-d0cf-4167-80fa-bdff640174b2",
   "metadata": {
    "tags": []
   },
   "outputs": [
    {
     "name": "stdout",
     "output_type": "stream",
     "text": [
      "Requirement already satisfied: pandas in /opt/.qbraid/environments/qbraid_000000/pyenv/lib/python3.11/site-packages (2.2.2)\n",
      "Requirement already satisfied: numpy>=1.23.2 in /opt/.qbraid/environments/qbraid_000000/pyenv/lib/python3.11/site-packages (from pandas) (2.0.0)\n",
      "Requirement already satisfied: python-dateutil>=2.8.2 in /opt/.qbraid/environments/qbraid_000000/pyenv/lib/python3.11/site-packages (from pandas) (2.9.0.post0)\n",
      "Requirement already satisfied: pytz>=2020.1 in /opt/.qbraid/environments/qbraid_000000/pyenv/lib/python3.11/site-packages (from pandas) (2024.1)\n",
      "Requirement already satisfied: tzdata>=2022.7 in /opt/.qbraid/environments/qbraid_000000/pyenv/lib/python3.11/site-packages (from pandas) (2024.1)\n",
      "Requirement already satisfied: six>=1.5 in /opt/.qbraid/environments/qbraid_000000/pyenv/lib/python3.11/site-packages (from python-dateutil>=2.8.2->pandas) (1.16.0)\n",
      "Note: you may need to restart the kernel to use updated packages.\n",
      "Requirement already satisfied: qiskit-ibm-runtime in /opt/.qbraid/environments/qbraid_000000/pyenv/lib/python3.11/site-packages (0.25.0)\n",
      "Requirement already satisfied: requests>=2.19 in /opt/.qbraid/environments/qbraid_000000/pyenv/lib/python3.11/site-packages (from qiskit-ibm-runtime) (2.32.3)\n",
      "Requirement already satisfied: requests-ntlm>=1.1.0 in /opt/.qbraid/environments/qbraid_000000/pyenv/lib/python3.11/site-packages (from qiskit-ibm-runtime) (1.3.0)\n",
      "Requirement already satisfied: numpy>=1.13 in /opt/.qbraid/environments/qbraid_000000/pyenv/lib/python3.11/site-packages (from qiskit-ibm-runtime) (2.0.0)\n",
      "Requirement already satisfied: urllib3>=1.21.1 in /opt/.qbraid/environments/qbraid_000000/pyenv/lib/python3.11/site-packages (from qiskit-ibm-runtime) (2.2.2)\n",
      "Requirement already satisfied: python-dateutil>=2.8.0 in /opt/.qbraid/environments/qbraid_000000/pyenv/lib/python3.11/site-packages (from qiskit-ibm-runtime) (2.9.0.post0)\n",
      "Requirement already satisfied: websocket-client>=1.5.1 in /opt/.qbraid/environments/qbraid_000000/pyenv/lib/python3.11/site-packages (from qiskit-ibm-runtime) (1.8.0)\n",
      "Requirement already satisfied: ibm-platform-services>=0.22.6 in /opt/.qbraid/environments/qbraid_000000/pyenv/lib/python3.11/site-packages (from qiskit-ibm-runtime) (0.55.1)\n",
      "Requirement already satisfied: pydantic>=2.5.0 in /opt/.qbraid/environments/qbraid_000000/pyenv/lib/python3.11/site-packages (from qiskit-ibm-runtime) (2.8.2)\n",
      "Requirement already satisfied: qiskit>=1.1.0 in /opt/.qbraid/environments/qbraid_000000/pyenv/lib/python3.11/site-packages (from qiskit-ibm-runtime) (1.1.0)\n",
      "Requirement already satisfied: ibm-cloud-sdk-core<4.0.0,>=3.20.3 in /opt/.qbraid/environments/qbraid_000000/pyenv/lib/python3.11/site-packages (from ibm-platform-services>=0.22.6->qiskit-ibm-runtime) (3.20.3)\n",
      "Requirement already satisfied: annotated-types>=0.4.0 in /opt/.qbraid/environments/qbraid_000000/pyenv/lib/python3.11/site-packages (from pydantic>=2.5.0->qiskit-ibm-runtime) (0.7.0)\n",
      "Requirement already satisfied: pydantic-core==2.20.1 in /opt/.qbraid/environments/qbraid_000000/pyenv/lib/python3.11/site-packages (from pydantic>=2.5.0->qiskit-ibm-runtime) (2.20.1)\n",
      "Requirement already satisfied: typing-extensions>=4.6.1 in /opt/.qbraid/environments/qbraid_000000/pyenv/lib/python3.11/site-packages (from pydantic>=2.5.0->qiskit-ibm-runtime) (4.12.2)\n",
      "Requirement already satisfied: six>=1.5 in /opt/.qbraid/environments/qbraid_000000/pyenv/lib/python3.11/site-packages (from python-dateutil>=2.8.0->qiskit-ibm-runtime) (1.16.0)\n",
      "Requirement already satisfied: rustworkx>=0.14.0 in /opt/.qbraid/environments/qbraid_000000/pyenv/lib/python3.11/site-packages (from qiskit>=1.1.0->qiskit-ibm-runtime) (0.15.1)\n",
      "Requirement already satisfied: scipy>=1.5 in /opt/.qbraid/environments/qbraid_000000/pyenv/lib/python3.11/site-packages (from qiskit>=1.1.0->qiskit-ibm-runtime) (1.14.0)\n",
      "Requirement already satisfied: sympy>=1.3 in /opt/.qbraid/environments/qbraid_000000/pyenv/lib/python3.11/site-packages (from qiskit>=1.1.0->qiskit-ibm-runtime) (1.13.0)\n",
      "Requirement already satisfied: dill>=0.3 in /opt/.qbraid/environments/qbraid_000000/pyenv/lib/python3.11/site-packages (from qiskit>=1.1.0->qiskit-ibm-runtime) (0.3.8)\n",
      "Requirement already satisfied: stevedore>=3.0.0 in /opt/.qbraid/environments/qbraid_000000/pyenv/lib/python3.11/site-packages (from qiskit>=1.1.0->qiskit-ibm-runtime) (5.2.0)\n",
      "Requirement already satisfied: symengine>=0.11 in /opt/.qbraid/environments/qbraid_000000/pyenv/lib/python3.11/site-packages (from qiskit>=1.1.0->qiskit-ibm-runtime) (0.11.0)\n",
      "Requirement already satisfied: charset-normalizer<4,>=2 in /opt/.qbraid/environments/qbraid_000000/pyenv/lib/python3.11/site-packages (from requests>=2.19->qiskit-ibm-runtime) (3.3.2)\n",
      "Requirement already satisfied: idna<4,>=2.5 in /opt/.qbraid/environments/qbraid_000000/pyenv/lib/python3.11/site-packages (from requests>=2.19->qiskit-ibm-runtime) (3.7)\n",
      "Requirement already satisfied: certifi>=2017.4.17 in /opt/.qbraid/environments/qbraid_000000/pyenv/lib/python3.11/site-packages (from requests>=2.19->qiskit-ibm-runtime) (2024.7.4)\n",
      "Requirement already satisfied: cryptography>=1.3 in /opt/.qbraid/environments/qbraid_000000/pyenv/lib/python3.11/site-packages (from requests-ntlm>=1.1.0->qiskit-ibm-runtime) (42.0.8)\n",
      "Requirement already satisfied: pyspnego>=0.4.0 in /opt/.qbraid/environments/qbraid_000000/pyenv/lib/python3.11/site-packages (from requests-ntlm>=1.1.0->qiskit-ibm-runtime) (0.11.0)\n",
      "Requirement already satisfied: cffi>=1.12 in /opt/.qbraid/environments/qbraid_000000/pyenv/lib/python3.11/site-packages (from cryptography>=1.3->requests-ntlm>=1.1.0->qiskit-ibm-runtime) (1.16.0)\n",
      "Requirement already satisfied: PyJWT<3.0.0,>=2.8.0 in /opt/.qbraid/environments/qbraid_000000/pyenv/lib/python3.11/site-packages (from ibm-cloud-sdk-core<4.0.0,>=3.20.3->ibm-platform-services>=0.22.6->qiskit-ibm-runtime) (2.8.0)\n",
      "Requirement already satisfied: pbr!=2.1.0,>=2.0.0 in /opt/.qbraid/environments/qbraid_000000/pyenv/lib/python3.11/site-packages (from stevedore>=3.0.0->qiskit>=1.1.0->qiskit-ibm-runtime) (6.0.0)\n",
      "Requirement already satisfied: mpmath<1.4,>=1.1.0 in /opt/.qbraid/environments/qbraid_000000/pyenv/lib/python3.11/site-packages (from sympy>=1.3->qiskit>=1.1.0->qiskit-ibm-runtime) (1.3.0)\n",
      "Requirement already satisfied: pycparser in /opt/.qbraid/environments/qbraid_000000/pyenv/lib/python3.11/site-packages (from cffi>=1.12->cryptography>=1.3->requests-ntlm>=1.1.0->qiskit-ibm-runtime) (2.22)\n",
      "Note: you may need to restart the kernel to use updated packages.\n"
     ]
    }
   ],
   "source": [
    "%pip install pandas\n",
    "%pip install qiskit-ibm-runtime"
   ]
  },
  {
   "cell_type": "code",
   "execution_count": 10,
   "id": "3a476234-29e7-491a-a716-762ad28e609f",
   "metadata": {
    "tags": []
   },
   "outputs": [],
   "source": [
    "from qiskit_ibm_runtime import QiskitRuntimeService\n",
    "\n",
    "QiskitRuntimeService.save_account(\n",
    "    channel=\"ibm_quantum\",\n",
    "    token=\"e627890717d6ea36b41a2db36da0339759001bb21cad25398a8d2c35d61819e7d757af4a46f8500d823f885175b6399377731af3960cab3d76bddccf752232b2\",\n",
    "    set_as_default=True,\n",
    "    # Use `overwrite=True` if you're updating your token.\n",
    "    overwrite=True,\n",
    ")\n",
    "\n",
    "service = QiskitRuntimeService()"
   ]
  },
  {
   "cell_type": "code",
   "execution_count": 11,
   "id": "93b9154c-1501-4cfd-ba6c-9cf1e125ef46",
   "metadata": {
    "tags": []
   },
   "outputs": [
    {
     "name": "stdout",
     "output_type": "stream",
     "text": [
      "Available backends: [<IBMBackend('ibm_brisbane')>, <IBMBackend('ibm_kyoto')>, <IBMBackend('ibm_osaka')>, <IBMBackend('ibm_sherbrooke')>]\n"
     ]
    }
   ],
   "source": [
    "available_backends = service.backends()\n",
    "print(\"Available backends:\", available_backends)"
   ]
  },
  {
   "cell_type": "code",
   "execution_count": 12,
   "id": "afdb79bd-5fd6-4e10-8e4d-a8eaa437f0ec",
   "metadata": {
    "tags": []
   },
   "outputs": [
    {
     "name": "stdout",
     "output_type": "stream",
     "text": [
      "Submitting your answer. Please wait...\n",
      "Nice work, all your answers look correct!\n"
     ]
    }
   ],
   "source": [
    "# part 1: pick a backend and define 1-D chain\n",
    "### Your code goes here ###  \n",
    "# BACKEND \n",
    "# PATH_ANSWER = \n",
    "\n",
    "\n",
    "# Initialize the Qiskit Runtime Service\n",
    "service = QiskitRuntimeService()\n",
    "\n",
    "# Choose a backend (quantum processor)\n",
    "BACKEND = service.get_backend('ibm_osaka')  # You can choose a different backend if desired\n",
    "\n",
    "# Define a 1-D chain of qubits\n",
    "# For example, a chain of 3 qubits connected sequentially\n",
    "PATH_ANSWER = [0,1,2,3,4]\n",
    "\n",
    "# grade part 1\n",
    "from qc_grader.challenges.qgss_2024 import grade_lab2_ex1\n",
    "grade_lab2_ex1(PATH_ANSWER, BACKEND)"
   ]
  },
  {
   "cell_type": "markdown",
   "id": "6e125791-eac3-42a6-a7f8-3bfb1b7207d2",
   "metadata": {},
   "source": [
    "# Part 2: Define Disjoint Layers\n",
    "\n",
    "Next, we need to form two sets of edges which correspond to the different layers we will use in benchmarking, say `LAYER_1_ANSWER` and `LAYER_2_ANSWER`, each with type `list[tuple[int, int]]`. These layers should have the following properties:\n",
    "- Each `LAYER_i_ANSWER` contains edges on distinct sets of qubits, e.g. `(0, 1)` and `(1, 2)` cannot both be in `LAYER_i_ANSWER`, since they both contain `1`.\n",
    "- Every qubit in `PATH_ANSWER` must be contained in at least one of the `LAYER_i`s.\n",
    "\n",
    "Answers to grade:\n",
    "- `LAYER_1_ANSWER: list[tuple[int, int]]`\n",
    "- `LAYER_2_ANSWER: list[tuple[int, int]]`\n",
    "- `PATH_ANSWER: list[int]` (same as before)"
   ]
  },
  {
   "cell_type": "code",
   "execution_count": 13,
   "id": "992ee4e2-ceb9-4c60-817a-39284326e0af",
   "metadata": {
    "tags": []
   },
   "outputs": [],
   "source": [
    "LAYER_1_ANSWER = [(1,0),(2,3)]\n",
    "LAYER_2_ANSWER = [(2,1),(3,4)]"
   ]
  },
  {
   "cell_type": "code",
   "execution_count": 14,
   "id": "ae7c0da4-e124-44fa-a402-0a7adc180e33",
   "metadata": {
    "tags": []
   },
   "outputs": [
    {
     "name": "stdout",
     "output_type": "stream",
     "text": [
      "Submitting your answer. Please wait...\n",
      "Nice work, all your answers look correct!\n"
     ]
    }
   ],
   "source": [
    "from qc_grader.challenges.qgss_2024 import grade_lab2_ex2\n",
    "grade_lab2_ex2(LAYER_1_ANSWER, LAYER_2_ANSWER, PATH_ANSWER,BACKEND)"
   ]
  },
  {
   "cell_type": "markdown",
   "id": "912f8fd3-26dc-4603-bbb5-d80fce6f271b",
   "metadata": {},
   "source": [
    "# Part 3: Construct Clifford Entangling Layers\n",
    "Now we can use the `LAYER_i` from the previous problem to construct the `QuantumCircuit`s for each layer, which we will use for the EPLG experiments. Now it's your job to construct two circuits, `CIRC_1_ANSWER` and `CIRC_2_ANSWER`.\n",
    "- Each of them should contain a two-qubit Clifford gate for every pair in `LAYER_1_ANSWER` and `LAYER_2_ANSWER` from before.\n",
    "- The two-qubit Clifford gate (`GATE_NAME`) must be one provided by the backend you choose, i.e. it is in `backend.basis_gates`, should be one of `'ecr'`, `'cz'` or `'cx'` depending on your backend.\n",
    "\n",
    "Answers to grade:\n",
    "- `CIRCUIT_1_ANSWER: QuantumCircuit`\n",
    "- `CIRCUIT_2_ANSWER: QuantumCircuit`\n",
    "- `LAYER_1_ANSWER: list[tuple[int, int]]` (same as before)\n",
    "- `LAYER_2_ANSWER: list[tuple[int, int]]` (same as before)\n",
    "- `GATE_NAME: str`"
   ]
  },
  {
   "cell_type": "code",
   "execution_count": 16,
   "id": "935c62c2-62cf-490f-80ea-5a5a55008825",
   "metadata": {
    "tags": []
   },
   "outputs": [
    {
     "name": "stdout",
     "output_type": "stream",
     "text": [
      "Submitting your answer. Please wait...\n",
      "Nice work, all your answers look correct!\n",
      "Submitting your answer. Please wait...\n",
      "Nice work, all your answers look correct!\n"
     ]
    }
   ],
   "source": [
    "# Create the first circuit with the gates from LAYER_1_ANSWER\n",
    "CIRC_1_ANSWER = QuantumCircuit(5)  # Assuming 5 qubits to cover all used qubits\n",
    "GATE_NAME = 'cx' \n",
    "for pair in LAYER_1_ANSWER:\n",
    "    if GATE_NAME == 'cx':\n",
    "        CIRC_1_ANSWER.cx(pair[0], pair[1])\n",
    "    elif GATE_NAME == 'cz':\n",
    "        CIRC_1_ANSWER.cz(pair[0], pair[1])\n",
    "    elif GATE_NAME == 'ecr':\n",
    "        CIRC_1_ANSWER.ecr(pair[0], pair[1])\n",
    "\n",
    "# Create the second circuit with the gates from LAYER_2_ANSWER\n",
    "CIRC_2_ANSWER = QuantumCircuit(5)  # Assuming 5 qubits to cover all used qubits\n",
    "for pair in LAYER_2_ANSWER:\n",
    "    if GATE_NAME == 'cx':\n",
    "        CIRC_2_ANSWER.cx(pair[0], pair[1])\n",
    "    elif GATE_NAME == 'cz':\n",
    "        CIRC_2_ANSWER.cz(pair[0], pair[1])\n",
    "    elif GATE_NAME == 'ecr':\n",
    "        CIRC_2_ANSWER.ecr(pair[0], pair[1])\n",
    "\n",
    "# Grade part 3\n",
    "from qc_grader.challenges.qgss_2024 import grade_lab2_ex3\n",
    "grade_lab2_ex3(CIRC_1_ANSWER, LAYER_1_ANSWER, GATE_NAME, BACKEND)\n",
    "grade_lab2_ex3(CIRC_2_ANSWER, LAYER_2_ANSWER, GATE_NAME, BACKEND)"
   ]
  },
  {
   "cell_type": "code",
   "execution_count": 18,
   "id": "a3dfd7ba-dd88-4a8a-b40c-40c4b726ab39",
   "metadata": {
    "tags": []
   },
   "outputs": [
    {
     "name": "stdout",
     "output_type": "stream",
     "text": [
      "CIRC_1_ANSWER:\n"
     ]
    },
    {
     "data": {
      "image/png": "[encoded data removed]",
      "text/plain": [
       "<Figure size 203.885x451.5 with 1 Axes>"
      ]
     },
     "metadata": {},
     "output_type": "display_data"
    }
   ],
   "source": [
    "# Visualize the quantum circuits\n",
    "from qiskit.visualization import plot_coupling_map, circuit_drawer\n",
    "print(\"CIRC_1_ANSWER:\")\n",
    "display(circuit_drawer(CIRC_1_ANSWER, output='mpl'))"
   ]
  },
  {
   "cell_type": "code",
   "execution_count": 19,
   "id": "473f6654-fd71-4b8c-a6a3-5a586ddd9f64",
   "metadata": {
    "tags": []
   },
   "outputs": [
    {
     "name": "stdout",
     "output_type": "stream",
     "text": [
      "CIRC_1_ANSWER:\n"
     ]
    },
    {
     "data": {
      "image/png": "[encoded data removed]",
      "text/plain": [
       "<Figure size 203.885x451.5 with 1 Axes>"
      ]
     },
     "metadata": {},
     "output_type": "display_data"
    }
   ],
   "source": [
    "print(\"CIRC_1_ANSWER:\")\n",
    "display(circuit_drawer(CIRC_2_ANSWER, output='mpl'))"
   ]
  },
  {
   "cell_type": "markdown",
   "id": "c42f23c6-a773-41d5-9de4-d603680303eb",
   "metadata": {},
   "source": [
    "# Part 4: Construct EPLG Experiment Circuits\n",
    "\n",
    "*No grading for this part*\n",
    "\n",
    "In this part, we will use the circuits you constructed to construct the total EPLG circuits.  These circuits interleave the layers from before between layers of random Clifford gates.\n",
    "\n",
    "A few technical asides:\n",
    "1. There is a slight difference between the circuits constructed here and those defined in the EPLG paper. For a circuit of depth $d$ (for even $d$), we randomly sample 1q Clifford gates for $d/2$ layers,\n",
    "\n",
    "and then we invert the circuit for the last $d/2$ layers.\n",
    "\n",
    "This provides a simple implmentation for our purposes, and the details of this difference are beyond the scope of this lab.\n",
    "2. We perform 1q Clifford sampling by taking advantage of the fact that for backends whose single qubit gates are composed of $R_z(\\theta_1) \\sqrt{X} R_z(\\theta_2) \\sqrt{X} R_z(\\theta_3)$, when $\\theta_i \\in \\{ \\pm \\pi / 2, \\pm \\pi, 0 \\}$, the resulting single qubit gate is a Clifford. This allows us to randomly sample 1q Clifford gates simply by changing parameters."
   ]
  },
  {
   "cell_type": "markdown",
   "id": "2ffd7b81-a08f-466f-95d2-5f01f6c33d92",
   "metadata": {},
   "source": [
    "The parameters function is a generator that produces an infinite sequence of unique Parameter objects.\n",
    "\n",
    "\n",
    "These parameters are used to randomly sample single-qubit Clifford gates. \n",
    "\n",
    "\n",
    "\n",
    "The parameters are named in a structured way to keep track of the depth, qubit index, and layer within the depth. "
   ]
  },
  {
   "cell_type": "code",
   "execution_count": 20,
   "id": "32825413-3dac-4e85-b1a6-4cd9f4516200",
   "metadata": {
    "tags": []
   },
   "outputs": [],
   "source": [
    "from qiskit.circuit import Parameter\n",
    "from qiskit.transpiler.preset_passmanagers import generate_preset_pass_manager\n",
    "\n",
    "def eplg_circuit(num_qubits: int, depth: int, layer: QuantumCircuit, qubits: tuple[int, ...]) -> QuantumCircuit:\n",
    "    if depth % 2 != 0:\n",
    "        raise ValueError(f\"The depth must be even, got {depth}\")\n",
    "\n",
    "    def parameters():\n",
    "        _depth = 0\n",
    "        while True:\n",
    "            for zi in range(3):\n",
    "                for q in range(num_qubits):\n",
    "                    yield Parameter(f\"d{_depth}_q{q}_z{zi}\")\n",
    "            _depth += 1\n",
    "    _parameters = parameters()\n",
    "\n",
    "    circ = QuantumCircuit(num_qubits)\n",
    "\n",
    "    def _1q_layer():\n",
    "        for j in range(3):\n",
    "            for k in qubits:\n",
    "                circ.rz(next(_parameters), k)\n",
    "            if j == 2:\n",
    "                continue\n",
    "            circ.sx(qubits)\n",
    "\n",
    "    for _depth in range(depth // 2):\n",
    "        circ.barrier(qubits)\n",
    "        _1q_layer()\n",
    "        circ.barrier(qubits)\n",
    "        circ.compose(layer, inplace=True)\n",
    "    circ.barrier(qubits)\n",
    "    _1q_layer()\n",
    "    circ.barrier(qubits)\n",
    "    \n",
    "    # Assuming mirroring is fine\n",
    "    circ = circ.compose(circ.inverse())\n",
    "\n",
    "    circ.measure_active()\n",
    "\n",
    "    pm = generate_preset_pass_manager(basis_gates=[\"ecr\", \"sx\", \"rz\"], optimization_level=0)\n",
    "    circ = pm.run(circ)\n",
    "\n",
    "    circ.metadata[\"layer_depth\"] = depth\n",
    "    circ.metadata[\"qubits\"] = qubits\n",
    "    circ.metadata[\"num_qubits\"] = num_qubits\n",
    "\n",
    "    return circ"
   ]
  },
  {
   "cell_type": "markdown",
   "id": "76e5b92d-1165-4849-8f6e-b320b3843868",
   "metadata": {},
   "source": [
    "Here are examples of the EPLG circuits for depth $d=4$. In a later part we will use this function to construct circuits for varying $d$."
   ]
  },
  {
   "cell_type": "code",
   "execution_count": 21,
   "id": "701418c4-2e08-48c2-8d89-bea3c7518748",
   "metadata": {
    "tags": []
   },
   "outputs": [],
   "source": [
    "example_circuit_1 = eplg_circuit(\n",
    "    num_qubits=BACKEND.num_qubits,\n",
    "    depth=4,\n",
    "    layer=CIRC_1_ANSWER,\n",
    "    qubits=PATH_ANSWER,\n",
    ")"
   ]
  },
  {
   "cell_type": "code",
   "execution_count": 22,
   "id": "9c5b14dc-a6da-472a-b8d0-26312b083b69",
   "metadata": {
    "tags": []
   },
   "outputs": [],
   "source": [
    "example_circuit_2 = eplg_circuit(\n",
    "    num_qubits=BACKEND.num_qubits,\n",
    "    depth=4,\n",
    "    layer=CIRC_2_ANSWER,\n",
    "    qubits=PATH_ANSWER,\n",
    ")"
   ]
  },
  {
   "cell_type": "code",
   "execution_count": 24,
   "id": "2a3ae937-b3a8-43b1-8cd6-49e7184a0c8d",
   "metadata": {
    "tags": []
   },
   "outputs": [],
   "source": [
    "import numpy as np\n",
    "\n",
    "from qiskit.primitives.containers.bindings_array import BindingsArray\n",
    "\n",
    "def get_clifford_rz_samples(\n",
    "    circ: QuantumCircuit,\n",
    "    num_samples: int,\n",
    "    rng: np.random.Generator,\n",
    ") -> BindingsArray:\n",
    "    \"\"\"Uniformly sample the Rz parameters in a `QuantumCircuit`\n",
    "    from -pi, -pi/2, 0, +pi/2, +pi.\n",
    "    \"\"\"\n",
    "\n",
    "    _allowed_ops = {'rz', 'sx', 'sxdg', 'ecr', 'barrier', 'measure'}\n",
    "    if (_other := set(circ.count_ops().keys()) - _allowed_ops):\n",
    "        raise ValueError(f\"Circuit must only contain ops: {_allowed_ops}, got {_other}\")\n",
    "\n",
    "    sampled_pars = rng.integers(-2, 3, size=(num_samples, len(circ.parameters))) * (np.pi/2)\n",
    "\n",
    "    return BindingsArray({\n",
    "        tuple(circ.parameters): sampled_pars\n",
    "    })"
   ]
  },
  {
   "cell_type": "code",
   "execution_count": 25,
   "id": "136bc7f5-8da6-4171-958e-57c975be3720",
   "metadata": {
    "tags": []
   },
   "outputs": [],
   "source": [
    "num_samples = 10\n",
    "ARRAY_1_ANSWER = get_clifford_rz_samples(\n",
    "    circ=example_circuit_1,\n",
    "    num_samples=num_samples,\n",
    "    rng=np.random.default_rng(42))"
   ]
  },
  {
   "cell_type": "code",
   "execution_count": 26,
   "id": "47e89f04-3078-4ebd-8b6b-4a2ed47656ac",
   "metadata": {
    "tags": []
   },
   "outputs": [
    {
     "name": "stdout",
     "output_type": "stream",
     "text": [
      "Submitting your answer. Please wait...\n",
      "Nice work, all your answers look correct! \n",
      " Notice that the shape of the BindingsArray is [10], and there are {num_parameters} parameters.\n"
     ]
    }
   ],
   "source": [
    "# grade part 4\n",
    "from qc_grader.challenges.qgss_2024 import grade_lab2_ex4\n",
    "grade_lab2_ex4(ARRAY_1_ANSWER, example_circuit_1, num_samples)"
   ]
  },
  {
   "cell_type": "markdown",
   "id": "04dcfaab-3c93-40cf-9935-5ff216b3d3f4",
   "metadata": {},
   "source": [
    "Notice that despite the large number of parameters, the `BindingsArray` has shape `(10,)`, meaning it has `10` entries.\n",
    "\n",
    "As we discussed before, this is because its elements correspond to sets of parameters and their bound values"
   ]
  },
  {
   "cell_type": "markdown",
   "id": "5e0e81e0-a5c0-452e-8e0e-cdc66494f7cf",
   "metadata": {},
   "source": [
    "# Part 6: Make `ObservablesArray`s\n",
    "\n",
    "*No grading for this part*\n",
    "\n",
    "The only remaining thing that we need to produce an `EstimatorPub` is an `ObservablesArray`. The `ObservablesArray` can be seen as a array whose elements are observables. In our case, they will be `SparsePauliOp`s.\n",
    "\n",
    "In order to calculate the EPLG and LF, we need to calculate the expectation values $\\text{Tr}\\left( \\rho \\ket{00}_{i,j}\\bra{00}_{i,j}\\right)$ and $\\text{Tr}\\left( \\rho \\ket{0}_{i}\\bra{0}_{i}\\right)$ for qubits $i$, $j$ depending on the layers we chose before.\n",
    "\n",
    "Alternatively we could do this using the `SamplerV2` rather than the `EstimatorV2`. This would come with the tradeoff of having more post-processing that we have to do, but we can have the `EstimatorV2` do this for us by constructing the projectors $\\ket{0}_{i}\\bra{0}_{i}$ and $\\ket{00}_{i,j}\\bra{00}_{i,j}$ and using them as observables.\n",
    "\n",
    "This means that the expectation values we get back from the `EstimatorV2` will be the process fidelities that we're interested in!"
   ]
  },
  {
   "cell_type": "code",
   "execution_count": 27,
   "id": "b7a749c3-d9be-407c-8a80-8421ff761466",
   "metadata": {
    "tags": []
   },
   "outputs": [],
   "source": [
    "import numpy as np\n",
    "from itertools import product\n",
    "from qiskit.quantum_info import SparsePauliOp\n",
    "\n",
    "def process_fidelity_observable(num_qubits: int, qubits: tuple[int, ...]) -> SparsePauliOp:\n",
    "    \"\"\"Produces the all 0 projector on `qubits` tensored with the identity on all other qubits\"\"\"\n",
    "    pauli_strings = []\n",
    "\n",
    "    for p_sub_str in product([\"I\", \"Z\"], repeat=len(qubits)):\n",
    "        p_str = [\"I\"] * num_qubits\n",
    "        for qi, pi in zip(qubits, p_sub_str):\n",
    "            p_str[qi] = pi\n",
    "        pauli_strings.append(\"\".join(p_str[::-1]))\n",
    "    \n",
    "    return SparsePauliOp(pauli_strings, np.ones(len(pauli_strings)) / 2**len(qubits))"
   ]
  },
  {
   "cell_type": "markdown",
   "id": "72890aa8-73ee-4b86-b448-40a2fe820b9a",
   "metadata": {},
   "source": [
    "Now we need to produce `ObservablesArray`s which correspond to the projectors we are interested in, i.e. the process fidelities for subsets of our path."
   ]
  },
  {
   "cell_type": "code",
   "execution_count": 28,
   "id": "fe15aa32-b3b6-44e2-9b59-341199e56857",
   "metadata": {
    "tags": []
   },
   "outputs": [],
   "source": [
    "from qiskit.primitives.containers.observables_array import ObservablesArray\n",
    "\n",
    "LAYER_1_SUBSYSTEMS = LAYER_1_ANSWER + [(q,) for q in set(PATH_ANSWER) - set(item for sublist in LAYER_1_ANSWER for item in sublist)]\n",
    "LAYER_2_SUBSYSTEMS = LAYER_2_ANSWER + [(q,) for q in set(PATH_ANSWER) - set(item for sublist in LAYER_2_ANSWER for item in sublist)]\n",
    "\n",
    "LAYER_1_OBSERVABLES = ObservablesArray([process_fidelity_observable(BACKEND.num_qubits, qubits) for qubits in LAYER_1_SUBSYSTEMS])\n",
    "LAYER_2_OBSERVABLES = ObservablesArray([process_fidelity_observable(BACKEND.num_qubits, qubits) for qubits in LAYER_2_SUBSYSTEMS])"
   ]
  },
  {
   "cell_type": "markdown",
   "id": "daff74ff-870a-49f4-9b59-136ac2f42065",
   "metadata": {},
   "source": [
    "Note that the `LAYER_i_OBSERVABLES` have a shape which corresponds to the number of subsystems in each layer.\n",
    "\n",
    "Since all of the observables in our `ObservablesArray`s are diagonal in the computational basis (i.e. they only consist of Paulis which have $I$ and $Z$ terms), the `EstimatorV2` does not need to compute expectation values in additional bases."
   ]
  },
  {
   "cell_type": "code",
   "execution_count": 29,
   "id": "5dfbbe37-6e9f-44c6-8476-94f37ca8cef8",
   "metadata": {
    "tags": []
   },
   "outputs": [
    {
     "data": {
      "text/plain": [
       "True"
      ]
     },
     "execution_count": 29,
     "metadata": {},
     "output_type": "execute_result"
    }
   ],
   "source": [
    "LAYER_1_OBSERVABLES.shape == (len(LAYER_1_SUBSYSTEMS),)\n",
    "LAYER_2_OBSERVABLES.shape == (len(LAYER_2_SUBSYSTEMS),)"
   ]
  },
  {
   "cell_type": "markdown",
   "id": "f62f750a-93eb-415e-860a-1ea3c88cece0",
   "metadata": {},
   "source": [
    "# Part 7: Make Sequence of `EstimatorPub`s\n",
    "\n",
    "*No grading for this part*\n",
    "\n",
    "Finally, we can construct our `EstimatorPub`s. The [`EstimatorPub`](https://github.com/Qiskit/qiskit/blob/main/qiskit/primitives/containers/estimator_pub.py#L36) is can be seen as a tuple consisting of a `QuantumCircuit`, an `ObservablesArray`, and a `BindingsArray` (and optionally a precision). Given an `EstimatorPub` with a given shape, the `EstimatorV2` will return arrays of expectation values (and their standard deviations) whose shape is the same as the input `EstimatorPub`.\n",
    "\n",
    "In order to construct the `EstimatorPub`s needed to do the EPLG calculations, we need `EstimatorPub`s which vary in\n",
    "- the input circuit (i.e. one for each disjoint set of edges) (in our case `2`)\n",
    "- the depth of the circuit (we have chosen `6` depths here by default).\n",
    "\n",
    "Therefore, we will have $2 \\times 6 = 12$ `EstimatorPub`s total. Within each of these, we have `10` twirling samples, and `k` fidelities (which depends on the path you chose, this should roughly be half of the length of the path). So we have $12$ `EstimatorPub`s, each with $10 k$ elements.\n",
    "\n",
    "Therefore, the total number of expectation values that we *expect* to receive is $120k$. For a length $30$ chain, $k = 15$, meaning we should roughly $1,800$ expectation values back overall (depending on the edges of the chain)."
   ]
  },
  {
   "cell_type": "code",
   "execution_count": 30,
   "id": "ce1fcf2c-42e6-421b-967a-126b995b3437",
   "metadata": {
    "tags": []
   },
   "outputs": [],
   "source": [
    "rng = np.random.default_rng(42)\n",
    "num_samples = 10\n",
    "depths = [2, 4, 8, 16, 32, 64]"
   ]
  },
  {
   "cell_type": "code",
   "execution_count": 32,
   "id": "0c453984-1ae3-4f89-abbd-44f12803ad0d",
   "metadata": {
    "tags": []
   },
   "outputs": [],
   "source": [
    "from qiskit.primitives.containers.estimator_pub import EstimatorPub\n",
    "\n",
    "estimator_pubs = []\n",
    "for depth in depths:\n",
    "    for layer, name, observables in [(CIRC_1_ANSWER, \"circ_1\", LAYER_1_OBSERVABLES), (CIRC_2_ANSWER, \"circ_2\", LAYER_2_OBSERVABLES)]:\n",
    "        circ = eplg_circuit(\n",
    "            num_qubits=BACKEND.num_qubits,\n",
    "            depth=depth,\n",
    "            layer=layer,\n",
    "            qubits=PATH_ANSWER,\n",
    "        )\n",
    "        circ.metadata[\"layer_idx\"] = name\n",
    "        bindings_array = get_clifford_rz_samples(\n",
    "            circ=circ,\n",
    "            num_samples=num_samples,\n",
    "            rng=rng,\n",
    "        )\n",
    "\n",
    "        # We need to reshape the `ObservablesArray`s and `BindingsArray`s so they\n",
    "        # can be broadcasted.\n",
    "        # https://numpy.org/doc/stable/user/basics.broadcasting.html#basics-broadcasting\n",
    "        estimator_pubs.append(EstimatorPub(\n",
    "            circuit=circ,\n",
    "            observables=observables.reshape((*observables.shape, 1)),\n",
    "            parameter_values=bindings_array.reshape((1, *bindings_array.shape)),\n",
    "        ))"
   ]
  },
  {
   "cell_type": "markdown",
   "id": "65ce78d1-6a55-4709-9953-71a6044a4d27",
   "metadata": {},
   "source": [
    "As a sanity check, we can count the number of expectation values we should obtain overall from the shape of the `EstimatorPub`s."
   ]
  },
  {
   "cell_type": "code",
   "execution_count": 33,
   "id": "57c71f3a-4db2-4774-8fa0-cdf709da9342",
   "metadata": {
    "tags": []
   },
   "outputs": [
    {
     "data": {
      "text/plain": [
       "np.int64(360)"
      ]
     },
     "execution_count": 33,
     "metadata": {},
     "output_type": "execute_result"
    }
   ],
   "source": [
    "num_evs_expected = 0\n",
    "for pub in estimator_pubs:\n",
    "    num_evs_expected += np.prod(estimator_pubs[0].shape)\n",
    "num_evs_expected"
   ]
  },
  {
   "cell_type": "markdown",
   "id": "1be5a869-fd6c-4921-a20f-eed3a5a74031",
   "metadata": {},
   "source": [
    "# Part 8: Submit to Runtime\n",
    "\n",
    "*No grading for this part*\n",
    "\n",
    "Finally, we are ready to hand off our `EstimatorPub`s to the `EstimatorV2`.\n",
    "\n",
    "Since the calculation of EPLG is SPAM-robust, we should turn off measurement mitigation, which is enabled by default."
   ]
  },
  {
   "cell_type": "code",
   "execution_count": 34,
   "id": "dbdd8915-02a7-4c35-a694-f597811ca38f",
   "metadata": {
    "tags": []
   },
   "outputs": [],
   "source": [
    "from qiskit_ibm_runtime import EstimatorV2\n",
    "estimator = EstimatorV2(backend=BACKEND)\n",
    "estimator.options.resilience.measure_mitigation = False"
   ]
  },
  {
   "cell_type": "markdown",
   "id": "6aac72cd-593e-4729-993a-c5af54843995",
   "metadata": {},
   "source": [
    "Now we can run the `EstimatorV2` with our `EstimatorPub`s and wait for the result.\n",
    "\n",
    "With the default settings in this notebook, this should take no more than 10 minutes to complete (not accounting for queue time)."
   ]
  },
  {
   "cell_type": "code",
   "execution_count": 35,
   "id": "ee09a914-cb2b-49e8-9fb4-3ff616a1dac5",
   "metadata": {
    "tags": []
   },
   "outputs": [],
   "source": [
    "estimator_job = estimator.run(estimator_pubs)"
   ]
  },
  {
   "cell_type": "markdown",
   "id": "8dfb41b4-3450-40ae-a204-0098a77416c7",
   "metadata": {},
   "source": [
    "And we can get the `PrimitiveResult` with"
   ]
  },
  {
   "cell_type": "code",
   "execution_count": null,
   "id": "d1f58b7d-b287-47c8-81b7-7a5281e09e0d",
   "metadata": {
    "tags": []
   },
   "outputs": [],
   "source": [
    "primitive_result = estimator_job.result()\n",
    "\n",
    "primitive_result"
   ]
  },
  {
   "cell_type": "markdown",
   "id": "86b1d061-006e-4c85-84dc-79b0470e4327",
   "metadata": {},
   "source": [
    "# Part 9: Data Analysis\n",
    "The final step is to perform the fittings of the decay curves to perform the EPLG analysis.\n",
    "\n",
    "Let's first grab some of the relevant data from the `PrimitiveResult`."
   ]
  },
  {
   "cell_type": "code",
   "execution_count": null,
   "id": "fcd2ff10-906c-42de-8a84-260fe139bf47",
   "metadata": {
    "tags": []
   },
   "outputs": [],
   "source": [
    "data_out = {\n",
    "    \"evs\": [pub_res.data.evs for pub_res in primitive_result],\n",
    "    \"stds\": [pub_res.data.stds for pub_res in primitive_result],\n",
    "    \"result_metadata\": primitive_result.metadata,\n",
    "    \"pub_metadata\": [pub_res.metadata for pub_res in primitive_result]\n",
    "}"
   ]
  },
  {
   "cell_type": "markdown",
   "id": "d18b0e0f-ff9e-4787-a75f-d0fc82e3d83a",
   "metadata": {},
   "source": [
    "Now we can rearrange the expectation values into an array in a convenient form, as well as average over the randomized Cliffords."
   ]
  },
  {
   "cell_type": "code",
   "execution_count": null,
   "id": "d487d080-11a6-49eb-9d4e-f30613146c22",
   "metadata": {},
   "outputs": [],
   "source": [
    "# evs_at_depth is a \n",
    "evs_at_depth = np.zeros((len(depths), data_out['evs'][0].shape[0]*2))\n",
    "for i in range(len(depths)):\n",
    "    layer1_evs = np.average(data_out['evs'][2*i], axis=-1)\n",
    "    layer2_evs = np.average(data_out['evs'][2*i+1], axis=-1)\n",
    "    evs_at_depth[i,:] = np.array([item for pair in zip(layer1_evs, layer2_evs) for item in pair])"
   ]
  },
  {
   "cell_type": "markdown",
   "id": "93fc3b17-7b13-4081-80b5-67f84e9c4ce6",
   "metadata": {},
   "source": [
    "The resulting shape has two axes, one for the depth (axis `0`, with shape `6`) and one for the number of subsystem fidelities (axis `1`, dependent on your path)."
   ]
  },
  {
   "cell_type": "code",
   "execution_count": null,
   "id": "f72b2cbc-a9e4-46f0-90c8-d9f6205e1054",
   "metadata": {
    "tags": []
   },
   "outputs": [],
   "source": [
    "evs_at_depth.shape"
   ]
  },
  {
   "cell_type": "code",
   "execution_count": null,
   "id": "8b1b4e50-bb62-4d7c-b620-16b9492c0719",
   "metadata": {},
   "outputs": [],
   "source": []
  }
 ],
 "metadata": {
  "kernelspec": {
   "display_name": "Python 3 [Default]",
   "language": "python",
   "name": "python3"
  },
  "language_info": {
   "codemirror_mode": {
    "name": "ipython",
    "version": 3
   },
   "file_extension": ".py",
   "mimetype": "text/x-python",
   "name": "python",
   "nbconvert_exporter": "python",
   "pygments_lexer": "ipython3",
   "version": "3.11.5"
  }
 },
 "nbformat": 4,
 "nbformat_minor": 5
}
